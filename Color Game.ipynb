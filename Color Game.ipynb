{
 "cells": [
  {
   "cell_type": "code",
   "execution_count": 1,
   "metadata": {},
   "outputs": [],
   "source": [
    "#import the modules\n",
    "import tkinter\n",
    "import random"
   ]
  },
  {
   "cell_type": "code",
   "execution_count": 2,
   "metadata": {},
   "outputs": [],
   "source": [
    "#list of colours\n",
    "colours=['Red','Blue','Green','Pink','Black','Yellow','Orange','White','Purple','Brown']\n",
    "score=0\n",
    "#initial time is 30seconds\n",
    "timeleft=30"
   ]
  },
  {
   "cell_type": "code",
   "execution_count": 3,
   "metadata": {},
   "outputs": [],
   "source": [
    "#function to start the game\n",
    "def startgame(event):\n",
    "    if timeleft==30:\n",
    "        countdown()\n",
    "    nextcolour()\n",
    "#function to choose and display the next colour\n",
    "def nextcolour():\n",
    "    global score, timeleft\n",
    "    if timeleft>0:\n",
    "        #making text box active\n",
    "        e.focus_set()\n",
    "        #if colours match\n",
    "        if e.get().lower()==colours[1].lower():\n",
    "            score+=1\n",
    "        #clearing the text box\n",
    "        e.delete(0,tkinter.END)\n",
    "        random.shuffle(colours)\n",
    "        label.config(fg = str(colours[1]), text = str(colours[0]))\n",
    "          \n",
    "        # update the score.\n",
    "        scoreLabel.config(text = \"Score: \" + str(score))"
   ]
  },
  {
   "cell_type": "code",
   "execution_count": 4,
   "metadata": {},
   "outputs": [],
   "source": [
    "#countdown timer function\n",
    "def countdown():\n",
    "  \n",
    "    global timeleft\n",
    "  \n",
    "    # if a game is in play\n",
    "    if timeleft > 0:\n",
    "  \n",
    "        # decrement the timer.\n",
    "        timeleft -= 1\n",
    "          \n",
    "        # update the time left label\n",
    "        timeLabel.config(text = \"Time left: \"\n",
    "                               + str(timeleft))\n",
    "                                 \n",
    "        # run the function again after 1 second.\n",
    "        timeLabel.after(1000, countdown)"
   ]
  },
  {
   "cell_type": "code",
   "execution_count": null,
   "metadata": {},
   "outputs": [],
   "source": [
    "# create a GUI window\n",
    "root = tkinter.Tk()\n",
    "  \n",
    "# set the title\n",
    "root.title(\"COLOR GAME\")\n",
    "  \n",
    "# set the size\n",
    "root.geometry(\"375x200\")\n",
    "  \n",
    "# add an instructions label\n",
    "instructions = tkinter.Label(root, text = \"Type in the colour \"\n",
    "                        \"of the words, and not the word text!\",\n",
    "                                      font = ('Helvetica', 12))\n",
    "instructions.pack() \n",
    "  \n",
    "# add a score label\n",
    "scoreLabel = tkinter.Label(root, text = \"Press enter to start\",\n",
    "                                      font = ('Helvetica', 12))\n",
    "scoreLabel.pack()\n",
    "  \n",
    "# add a time left label\n",
    "timeLabel = tkinter.Label(root, text = \"Time left: \" +\n",
    "              str(timeleft), font = ('Helvetica', 12))\n",
    "                \n",
    "timeLabel.pack()\n",
    "  \n",
    "# add a label for displaying the colours\n",
    "label = tkinter.Label(root, font = ('Helvetica', 60))\n",
    "label.pack()\n",
    "  \n",
    "# add a text entry box for\n",
    "# typing in colours\n",
    "e = tkinter.Entry(root)\n",
    "  \n",
    "# run the 'startGame' function \n",
    "# when the enter key is pressed\n",
    "root.bind('<Return>', startgame)\n",
    "e.pack()\n",
    "  \n",
    "# set focus on the entry box\n",
    "e.focus_set()\n",
    "  \n",
    "# start the GUI\n",
    "root.mainloop()"
   ]
  },
  {
   "cell_type": "code",
   "execution_count": null,
   "metadata": {},
   "outputs": [],
   "source": []
  }
 ],
 "metadata": {
  "kernelspec": {
   "display_name": "Python 3",
   "language": "python",
   "name": "python3"
  },
  "language_info": {
   "codemirror_mode": {
    "name": "ipython",
    "version": 3
   },
   "file_extension": ".py",
   "mimetype": "text/x-python",
   "name": "python",
   "nbconvert_exporter": "python",
   "pygments_lexer": "ipython3",
   "version": "3.8.5"
  }
 },
 "nbformat": 4,
 "nbformat_minor": 4
}
